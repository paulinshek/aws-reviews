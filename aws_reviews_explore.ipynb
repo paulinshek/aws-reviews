{
 "cells": [
  {
   "cell_type": "code",
   "execution_count": 1,
   "metadata": {},
   "outputs": [
    {
     "name": "stdout",
     "output_type": "stream",
     "text": [
      "Starting Spark application\n"
     ]
    },
    {
     "data": {
      "text/html": [
       "<table>\n",
       "<tr><th>ID</th><th>YARN Application ID</th><th>Kind</th><th>State</th><th>Spark UI</th><th>Driver log</th><th>Current session?</th></tr><tr><td>0</td><td>application_1546608012318_0001</td><td>pyspark</td><td>idle</td><td><a target=\"_blank\" href=\"http://ip-172-31-5-153.ec2.internal:20888/proxy/application_1546608012318_0001/\">Link</a></td><td><a target=\"_blank\" href=\"http://ip-172-31-12-70.ec2.internal:8042/node/containerlogs/container_1546608012318_0001_01_000001/livy\">Link</a></td><td>✔</td></tr></table>"
      ],
      "text/plain": [
       "<IPython.core.display.HTML object>"
      ]
     },
     "metadata": {},
     "output_type": "display_data"
    },
    {
     "name": "stdout",
     "output_type": "stream",
     "text": [
      "SparkSession available as 'spark'.\n"
     ]
    }
   ],
   "source": [
    "import sys\n",
    "from awsglue.transforms import *\n",
    "from awsglue.utils import getResolvedOptions\n",
    "from pyspark.context import SparkContext\n",
    "from awsglue.context import GlueContext\n",
    "from awsglue.job import Job\n",
    "\n",
    "glueContext = GlueContext(SparkContext.getOrCreate())"
   ]
  },
  {
   "cell_type": "code",
   "execution_count": 3,
   "metadata": {},
   "outputs": [
    {
     "name": "stdout",
     "output_type": "stream",
     "text": [
      "Count:  160796570\n",
      "root\n",
      "|-- marketplace: string\n",
      "|-- customer_id: string\n",
      "|-- review_id: string\n",
      "|-- product_id: string\n",
      "|-- product_parent: string\n",
      "|-- product_title: string\n",
      "|-- star_rating: int\n",
      "|-- helpful_votes: int\n",
      "|-- total_votes: int\n",
      "|-- vine: string\n",
      "|-- verified_purchase: string\n",
      "|-- review_headline: string\n",
      "|-- review_body: string\n",
      "|-- review_date: date\n",
      "|-- year: int\n",
      "|-- product_category: string"
     ]
    }
   ],
   "source": [
    "reviews = glueContext.create_dynamic_frame.from_catalog(database=\"amazonreviews\", table_name=\"parquet\")\n",
    "print \"Count: \", reviews.count()\n",
    "reviews.printSchema()"
   ]
  },
  {
   "cell_type": "code",
   "execution_count": null,
   "metadata": {},
   "outputs": [],
   "source": []
  },
  {
   "cell_type": "code",
   "execution_count": null,
   "metadata": {},
   "outputs": [],
   "source": []
  }
 ],
 "metadata": {
  "kernelspec": {
   "display_name": "Sparkmagic (PySpark)",
   "language": "",
   "name": "pysparkkernel"
  },
  "language_info": {
   "codemirror_mode": {
    "name": "python",
    "version": 2
   },
   "mimetype": "text/x-python",
   "name": "pyspark",
   "pygments_lexer": "python2"
  }
 },
 "nbformat": 4,
 "nbformat_minor": 2
}
